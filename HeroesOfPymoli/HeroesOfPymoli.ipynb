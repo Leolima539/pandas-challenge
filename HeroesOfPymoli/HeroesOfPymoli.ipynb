{
 "cells": [
  {
   "cell_type": "markdown",
   "metadata": {},
   "source": [
    "### Note\n",
    "* Instructions have been included for each segment. You do not have to follow them exactly, but they are included to help you think through the steps."
   ]
  },
  {
   "cell_type": "code",
   "execution_count": 164,
   "metadata": {},
   "outputs": [],
   "source": [
    "# Dependencies and Setup\n",
    "import pandas as pd\n",
    "\n",
    "# File to Load (Remember to Change These)\n",
    "file_to_load = \"Resources/purchase_data.csv\"\n",
    "\n",
    "# Read Purchasing File and store into Pandas data frame\n",
    "purchase_data = pd.read_csv(file_to_load)"
   ]
  },
  {
   "cell_type": "markdown",
   "metadata": {},
   "source": [
    "## Player Count"
   ]
  },
  {
   "cell_type": "markdown",
   "metadata": {},
   "source": [
    "* Display the total number of players\n"
   ]
  },
  {
   "cell_type": "code",
   "execution_count": 165,
   "metadata": {},
   "outputs": [
    {
     "data": {
      "text/html": [
       "<div>\n",
       "<style scoped>\n",
       "    .dataframe tbody tr th:only-of-type {\n",
       "        vertical-align: middle;\n",
       "    }\n",
       "\n",
       "    .dataframe tbody tr th {\n",
       "        vertical-align: top;\n",
       "    }\n",
       "\n",
       "    .dataframe thead th {\n",
       "        text-align: right;\n",
       "    }\n",
       "</style>\n",
       "<table border=\"1\" class=\"dataframe\">\n",
       "  <thead>\n",
       "    <tr style=\"text-align: right;\">\n",
       "      <th></th>\n",
       "      <th>Purchase ID</th>\n",
       "      <th>SN</th>\n",
       "      <th>Age</th>\n",
       "      <th>Gender</th>\n",
       "      <th>Item ID</th>\n",
       "      <th>Item Name</th>\n",
       "      <th>Price</th>\n",
       "    </tr>\n",
       "  </thead>\n",
       "  <tbody>\n",
       "    <tr>\n",
       "      <th>0</th>\n",
       "      <td>0</td>\n",
       "      <td>Lisim78</td>\n",
       "      <td>20</td>\n",
       "      <td>Male</td>\n",
       "      <td>108</td>\n",
       "      <td>Extraction, Quickblade Of Trembling Hands</td>\n",
       "      <td>3.53</td>\n",
       "    </tr>\n",
       "    <tr>\n",
       "      <th>1</th>\n",
       "      <td>1</td>\n",
       "      <td>Lisovynya38</td>\n",
       "      <td>40</td>\n",
       "      <td>Male</td>\n",
       "      <td>143</td>\n",
       "      <td>Frenzied Scimitar</td>\n",
       "      <td>1.56</td>\n",
       "    </tr>\n",
       "    <tr>\n",
       "      <th>2</th>\n",
       "      <td>2</td>\n",
       "      <td>Ithergue48</td>\n",
       "      <td>24</td>\n",
       "      <td>Male</td>\n",
       "      <td>92</td>\n",
       "      <td>Final Critic</td>\n",
       "      <td>4.88</td>\n",
       "    </tr>\n",
       "    <tr>\n",
       "      <th>3</th>\n",
       "      <td>3</td>\n",
       "      <td>Chamassasya86</td>\n",
       "      <td>24</td>\n",
       "      <td>Male</td>\n",
       "      <td>100</td>\n",
       "      <td>Blindscythe</td>\n",
       "      <td>3.27</td>\n",
       "    </tr>\n",
       "    <tr>\n",
       "      <th>4</th>\n",
       "      <td>4</td>\n",
       "      <td>Iskosia90</td>\n",
       "      <td>23</td>\n",
       "      <td>Male</td>\n",
       "      <td>131</td>\n",
       "      <td>Fury</td>\n",
       "      <td>1.44</td>\n",
       "    </tr>\n",
       "  </tbody>\n",
       "</table>\n",
       "</div>"
      ],
      "text/plain": [
       "   Purchase ID             SN  Age Gender  Item ID  \\\n",
       "0            0        Lisim78   20   Male      108   \n",
       "1            1    Lisovynya38   40   Male      143   \n",
       "2            2     Ithergue48   24   Male       92   \n",
       "3            3  Chamassasya86   24   Male      100   \n",
       "4            4      Iskosia90   23   Male      131   \n",
       "\n",
       "                                   Item Name  Price  \n",
       "0  Extraction, Quickblade Of Trembling Hands   3.53  \n",
       "1                          Frenzied Scimitar   1.56  \n",
       "2                               Final Critic   4.88  \n",
       "3                                Blindscythe   3.27  \n",
       "4                                       Fury   1.44  "
      ]
     },
     "execution_count": 165,
     "metadata": {},
     "output_type": "execute_result"
    }
   ],
   "source": [
    "purchase_data.head()"
   ]
  },
  {
   "cell_type": "code",
   "execution_count": 166,
   "metadata": {},
   "outputs": [
    {
     "data": {
      "text/plain": [
       "576"
      ]
     },
     "execution_count": 166,
     "metadata": {},
     "output_type": "execute_result"
    }
   ],
   "source": [
    "unique_list = purchase_data[\"SN\"].unique()\n",
    "total_players = len(unique_list)\n",
    "total_players\n"
   ]
  },
  {
   "cell_type": "markdown",
   "metadata": {},
   "source": [
    "## Purchasing Analysis (Total)"
   ]
  },
  {
   "cell_type": "markdown",
   "metadata": {},
   "source": [
    "* Run basic calculations to obtain number of unique items, average price, etc.\n",
    "\n",
    "\n",
    "* Create a summary data frame to hold the results\n",
    "\n",
    "\n",
    "* Optional: give the displayed data cleaner formatting\n",
    "\n",
    "\n",
    "* Display the summary data frame\n"
   ]
  },
  {
   "cell_type": "code",
   "execution_count": 167,
   "metadata": {
    "scrolled": true
   },
   "outputs": [
    {
     "data": {
      "text/html": [
       "<style  type=\"text/css\" >\n",
       "</style><table id=\"T_9e895158_3998_11ec_abc7_1c36bb20af6c\" ><thead>    <tr>        <th class=\"blank level0\" ></th>        <th class=\"col_heading level0 col0\" >Number of Unique Items</th>        <th class=\"col_heading level0 col1\" >Average Price</th>        <th class=\"col_heading level0 col2\" >Number of Purchases</th>        <th class=\"col_heading level0 col3\" >Total Revenue</th>    </tr></thead><tbody>\n",
       "                <tr>\n",
       "                        <th id=\"T_9e895158_3998_11ec_abc7_1c36bb20af6clevel0_row0\" class=\"row_heading level0 row0\" >0</th>\n",
       "                        <td id=\"T_9e895158_3998_11ec_abc7_1c36bb20af6crow0_col0\" class=\"data row0 col0\" >179</td>\n",
       "                        <td id=\"T_9e895158_3998_11ec_abc7_1c36bb20af6crow0_col1\" class=\"data row0 col1\" >$3.05</td>\n",
       "                        <td id=\"T_9e895158_3998_11ec_abc7_1c36bb20af6crow0_col2\" class=\"data row0 col2\" >780</td>\n",
       "                        <td id=\"T_9e895158_3998_11ec_abc7_1c36bb20af6crow0_col3\" class=\"data row0 col3\" >$2,379.77</td>\n",
       "            </tr>\n",
       "    </tbody></table>"
      ],
      "text/plain": [
       "<pandas.io.formats.style.Styler at 0x7f9664eceda0>"
      ]
     },
     "execution_count": 167,
     "metadata": {},
     "output_type": "execute_result"
    }
   ],
   "source": [
    "# find the average price\n",
    "average_price = purchase_data[\"Price\"].mean()\n",
    "#unique items\n",
    "unique_items = purchase_data[\"Item ID\"].unique()\n",
    "count_unique_items = len(unique_items)\n",
    "# Number of purchases\n",
    "total_purchases = purchase_data[\"Item ID\"].count()\n",
    "# Total revenue\n",
    "total_revenue = purchase_data[\"Price\"].sum()\n",
    "# New data frame\n",
    "summary_df = pd.DataFrame({\"Number of Unique Items\": [count_unique_items],\n",
    "                          \"Average Price\": [average_price],\n",
    "                          \"Number of Purchases\": [total_purchases],\n",
    "                          \"Total Revenue\": [total_revenue],})\n",
    "# Format data frame\n",
    "summary_df.style.format({'Average Price':\"${:,.2f}\",\n",
    "                         'Total Revenue':\"${:,.2f}\",})"
   ]
  },
  {
   "cell_type": "markdown",
   "metadata": {},
   "source": [
    "## Gender Demographics"
   ]
  },
  {
   "cell_type": "markdown",
   "metadata": {},
   "source": [
    "* Percentage and Count of Male Players\n",
    "\n",
    "\n",
    "* Percentage and Count of Female Players\n",
    "\n",
    "\n",
    "* Percentage and Count of Other / Non-Disclosed\n",
    "\n",
    "\n"
   ]
  },
  {
   "cell_type": "code",
   "execution_count": 168,
   "metadata": {},
   "outputs": [
    {
     "data": {
      "text/html": [
       "<style  type=\"text/css\" >\n",
       "</style><table id=\"T_9e90681c_3998_11ec_80de_1c36bb20af6c\" ><thead>    <tr>        <th class=\"blank level0\" ></th>        <th class=\"col_heading level0 col0\" >Total Players</th>        <th class=\"col_heading level0 col1\" >Percentage</th>    </tr>    <tr>        <th class=\"index_name level0\" >Gender</th>        <th class=\"blank\" ></th>        <th class=\"blank\" ></th>    </tr></thead><tbody>\n",
       "                <tr>\n",
       "                        <th id=\"T_9e90681c_3998_11ec_80de_1c36bb20af6clevel0_row0\" class=\"row_heading level0 row0\" >Female</th>\n",
       "                        <td id=\"T_9e90681c_3998_11ec_80de_1c36bb20af6crow0_col0\" class=\"data row0 col0\" >81</td>\n",
       "                        <td id=\"T_9e90681c_3998_11ec_80de_1c36bb20af6crow0_col1\" class=\"data row0 col1\" >14.06%</td>\n",
       "            </tr>\n",
       "            <tr>\n",
       "                        <th id=\"T_9e90681c_3998_11ec_80de_1c36bb20af6clevel0_row1\" class=\"row_heading level0 row1\" >Male</th>\n",
       "                        <td id=\"T_9e90681c_3998_11ec_80de_1c36bb20af6crow1_col0\" class=\"data row1 col0\" >484</td>\n",
       "                        <td id=\"T_9e90681c_3998_11ec_80de_1c36bb20af6crow1_col1\" class=\"data row1 col1\" >84.03%</td>\n",
       "            </tr>\n",
       "            <tr>\n",
       "                        <th id=\"T_9e90681c_3998_11ec_80de_1c36bb20af6clevel0_row2\" class=\"row_heading level0 row2\" >Other / Non-Disclosed</th>\n",
       "                        <td id=\"T_9e90681c_3998_11ec_80de_1c36bb20af6crow2_col0\" class=\"data row2 col0\" >11</td>\n",
       "                        <td id=\"T_9e90681c_3998_11ec_80de_1c36bb20af6crow2_col1\" class=\"data row2 col1\" >1.91%</td>\n",
       "            </tr>\n",
       "    </tbody></table>"
      ],
      "text/plain": [
       "<pandas.io.formats.style.Styler at 0x7f9664ce5470>"
      ]
     },
     "execution_count": 168,
     "metadata": {},
     "output_type": "execute_result"
    }
   ],
   "source": [
    "# Group by gender\n",
    "gender_df = purchase_data.groupby(\"Gender\")\n",
    "# Count unique SN don't count more than one time buyers repetedly\n",
    "no_dupes = gender_df[\"SN\"].nunique()\n",
    "# Calculate perecentage of player by gender\n",
    "percentage_gender = (no_dupes / total_players)*100\n",
    "# Create new data frame\n",
    "gender_demographics = pd.DataFrame({\"Total Players\": no_dupes, \"Percentage\": percentage_gender,})\n",
    "# Format data frame\n",
    "gender_demographics.style.format({\"Percentage\":\"{:.2f}%\",})"
   ]
  },
  {
   "cell_type": "markdown",
   "metadata": {},
   "source": [
    "\n",
    "## Purchasing Analysis (Gender)"
   ]
  },
  {
   "cell_type": "markdown",
   "metadata": {},
   "source": [
    "* Run basic calculations to obtain purchase count, avg. purchase price, avg. purchase total per person etc. by gender\n",
    "\n",
    "\n",
    "\n",
    "\n",
    "* Create a summary data frame to hold the results\n",
    "\n",
    "\n",
    "* Optional: give the displayed data cleaner formatting\n",
    "\n",
    "\n",
    "* Display the summary data frame"
   ]
  },
  {
   "cell_type": "code",
   "execution_count": 169,
   "metadata": {},
   "outputs": [
    {
     "data": {
      "text/html": [
       "<style  type=\"text/css\" >\n",
       "</style><table id=\"T_9e960e3e_3998_11ec_b235_1c36bb20af6c\" ><thead>    <tr>        <th class=\"blank level0\" ></th>        <th class=\"col_heading level0 col0\" >Purchase Count</th>        <th class=\"col_heading level0 col1\" >Average Purchase Price</th>        <th class=\"col_heading level0 col2\" >Total Purchase Value</th>        <th class=\"col_heading level0 col3\" >Average Total Purchase per Person</th>    </tr>    <tr>        <th class=\"index_name level0\" >Gender</th>        <th class=\"blank\" ></th>        <th class=\"blank\" ></th>        <th class=\"blank\" ></th>        <th class=\"blank\" ></th>    </tr></thead><tbody>\n",
       "                <tr>\n",
       "                        <th id=\"T_9e960e3e_3998_11ec_b235_1c36bb20af6clevel0_row0\" class=\"row_heading level0 row0\" >Female</th>\n",
       "                        <td id=\"T_9e960e3e_3998_11ec_b235_1c36bb20af6crow0_col0\" class=\"data row0 col0\" >113</td>\n",
       "                        <td id=\"T_9e960e3e_3998_11ec_b235_1c36bb20af6crow0_col1\" class=\"data row0 col1\" >$3.20</td>\n",
       "                        <td id=\"T_9e960e3e_3998_11ec_b235_1c36bb20af6crow0_col2\" class=\"data row0 col2\" >$361.94</td>\n",
       "                        <td id=\"T_9e960e3e_3998_11ec_b235_1c36bb20af6crow0_col3\" class=\"data row0 col3\" >$4.47</td>\n",
       "            </tr>\n",
       "            <tr>\n",
       "                        <th id=\"T_9e960e3e_3998_11ec_b235_1c36bb20af6clevel0_row1\" class=\"row_heading level0 row1\" >Male</th>\n",
       "                        <td id=\"T_9e960e3e_3998_11ec_b235_1c36bb20af6crow1_col0\" class=\"data row1 col0\" >652</td>\n",
       "                        <td id=\"T_9e960e3e_3998_11ec_b235_1c36bb20af6crow1_col1\" class=\"data row1 col1\" >$3.02</td>\n",
       "                        <td id=\"T_9e960e3e_3998_11ec_b235_1c36bb20af6crow1_col2\" class=\"data row1 col2\" >$1967.64</td>\n",
       "                        <td id=\"T_9e960e3e_3998_11ec_b235_1c36bb20af6crow1_col3\" class=\"data row1 col3\" >$4.07</td>\n",
       "            </tr>\n",
       "            <tr>\n",
       "                        <th id=\"T_9e960e3e_3998_11ec_b235_1c36bb20af6clevel0_row2\" class=\"row_heading level0 row2\" >Other / Non-Disclosed</th>\n",
       "                        <td id=\"T_9e960e3e_3998_11ec_b235_1c36bb20af6crow2_col0\" class=\"data row2 col0\" >15</td>\n",
       "                        <td id=\"T_9e960e3e_3998_11ec_b235_1c36bb20af6crow2_col1\" class=\"data row2 col1\" >$3.35</td>\n",
       "                        <td id=\"T_9e960e3e_3998_11ec_b235_1c36bb20af6crow2_col2\" class=\"data row2 col2\" >$50.19</td>\n",
       "                        <td id=\"T_9e960e3e_3998_11ec_b235_1c36bb20af6crow2_col3\" class=\"data row2 col3\" >$4.56</td>\n",
       "            </tr>\n",
       "    </tbody></table>"
      ],
      "text/plain": [
       "<pandas.io.formats.style.Styler at 0x7f9664ceeda0>"
      ]
     },
     "execution_count": 169,
     "metadata": {},
     "output_type": "execute_result"
    }
   ],
   "source": [
    "# purchase count\n",
    "purchase_count = gender_df[\"Purchase ID\"].count()\n",
    "# Average purchase price\n",
    "avg_purchase_price = gender_df[\"Price\"].mean()\n",
    "# Total purchase value\n",
    "total_purchase_value = gender_df[\"Price\"].sum()\n",
    "# Avg Total Purchase per Person\n",
    "avg_total_person = total_purchase_value/no_dupes\n",
    "\n",
    "# Create new data frame\n",
    "purchasing_analysis = pd.DataFrame({\n",
    "    \"Purchase Count\": purchase_count, \n",
    "    \"Average Purchase Price\": avg_purchase_price,\n",
    "    \"Total Purchase Value\": total_purchase_value,\n",
    "    \"Average Total Purchase per Person\": avg_total_person,})\n",
    "\n",
    "# Format data frame\n",
    "purchasing_analysis.style.format({\"Average Purchase Price\":\"${:.2f}\",\n",
    "                                 \"Total Purchase Value\":\"${:.2f}\",\n",
    "                                 \"Average Total Purchase per Person\":\"${:.2f}\",})\n"
   ]
  },
  {
   "cell_type": "markdown",
   "metadata": {},
   "source": [
    "## Age Demographics"
   ]
  },
  {
   "cell_type": "markdown",
   "metadata": {},
   "source": [
    "* Establish bins for ages\n",
    "\n",
    "\n",
    "* Categorize the existing players using the age bins. Hint: use pd.cut()\n",
    "\n",
    "\n",
    "* Calculate the numbers and percentages by age group\n",
    "\n",
    "\n",
    "* Create a summary data frame to hold the results\n",
    "\n",
    "\n",
    "* Optional: round the percentage column to two decimal points\n",
    "\n",
    "\n",
    "* Display Age Demographics Table\n"
   ]
  },
  {
   "cell_type": "code",
   "execution_count": 170,
   "metadata": {},
   "outputs": [
    {
     "data": {
      "text/html": [
       "<style  type=\"text/css\" >\n",
       "</style><table id=\"T_9e9cad86_3998_11ec_bea7_1c36bb20af6c\" ><thead>    <tr>        <th class=\"blank level0\" ></th>        <th class=\"col_heading level0 col0\" >Total Count</th>        <th class=\"col_heading level0 col1\" >Percentage of Players</th>    </tr>    <tr>        <th class=\"index_name level0\" >Age Group</th>        <th class=\"blank\" ></th>        <th class=\"blank\" ></th>    </tr></thead><tbody>\n",
       "                <tr>\n",
       "                        <th id=\"T_9e9cad86_3998_11ec_bea7_1c36bb20af6clevel0_row0\" class=\"row_heading level0 row0\" ><10</th>\n",
       "                        <td id=\"T_9e9cad86_3998_11ec_bea7_1c36bb20af6crow0_col0\" class=\"data row0 col0\" >17</td>\n",
       "                        <td id=\"T_9e9cad86_3998_11ec_bea7_1c36bb20af6crow0_col1\" class=\"data row0 col1\" >2.95%</td>\n",
       "            </tr>\n",
       "            <tr>\n",
       "                        <th id=\"T_9e9cad86_3998_11ec_bea7_1c36bb20af6clevel0_row1\" class=\"row_heading level0 row1\" >10-14</th>\n",
       "                        <td id=\"T_9e9cad86_3998_11ec_bea7_1c36bb20af6crow1_col0\" class=\"data row1 col0\" >22</td>\n",
       "                        <td id=\"T_9e9cad86_3998_11ec_bea7_1c36bb20af6crow1_col1\" class=\"data row1 col1\" >3.82%</td>\n",
       "            </tr>\n",
       "            <tr>\n",
       "                        <th id=\"T_9e9cad86_3998_11ec_bea7_1c36bb20af6clevel0_row2\" class=\"row_heading level0 row2\" >15-19</th>\n",
       "                        <td id=\"T_9e9cad86_3998_11ec_bea7_1c36bb20af6crow2_col0\" class=\"data row2 col0\" >107</td>\n",
       "                        <td id=\"T_9e9cad86_3998_11ec_bea7_1c36bb20af6crow2_col1\" class=\"data row2 col1\" >18.58%</td>\n",
       "            </tr>\n",
       "            <tr>\n",
       "                        <th id=\"T_9e9cad86_3998_11ec_bea7_1c36bb20af6clevel0_row3\" class=\"row_heading level0 row3\" >20-24</th>\n",
       "                        <td id=\"T_9e9cad86_3998_11ec_bea7_1c36bb20af6crow3_col0\" class=\"data row3 col0\" >258</td>\n",
       "                        <td id=\"T_9e9cad86_3998_11ec_bea7_1c36bb20af6crow3_col1\" class=\"data row3 col1\" >44.79%</td>\n",
       "            </tr>\n",
       "            <tr>\n",
       "                        <th id=\"T_9e9cad86_3998_11ec_bea7_1c36bb20af6clevel0_row4\" class=\"row_heading level0 row4\" >25-29</th>\n",
       "                        <td id=\"T_9e9cad86_3998_11ec_bea7_1c36bb20af6crow4_col0\" class=\"data row4 col0\" >77</td>\n",
       "                        <td id=\"T_9e9cad86_3998_11ec_bea7_1c36bb20af6crow4_col1\" class=\"data row4 col1\" >13.37%</td>\n",
       "            </tr>\n",
       "            <tr>\n",
       "                        <th id=\"T_9e9cad86_3998_11ec_bea7_1c36bb20af6clevel0_row5\" class=\"row_heading level0 row5\" >30-34</th>\n",
       "                        <td id=\"T_9e9cad86_3998_11ec_bea7_1c36bb20af6crow5_col0\" class=\"data row5 col0\" >52</td>\n",
       "                        <td id=\"T_9e9cad86_3998_11ec_bea7_1c36bb20af6crow5_col1\" class=\"data row5 col1\" >9.03%</td>\n",
       "            </tr>\n",
       "            <tr>\n",
       "                        <th id=\"T_9e9cad86_3998_11ec_bea7_1c36bb20af6clevel0_row6\" class=\"row_heading level0 row6\" >35-39</th>\n",
       "                        <td id=\"T_9e9cad86_3998_11ec_bea7_1c36bb20af6crow6_col0\" class=\"data row6 col0\" >31</td>\n",
       "                        <td id=\"T_9e9cad86_3998_11ec_bea7_1c36bb20af6crow6_col1\" class=\"data row6 col1\" >5.38%</td>\n",
       "            </tr>\n",
       "            <tr>\n",
       "                        <th id=\"T_9e9cad86_3998_11ec_bea7_1c36bb20af6clevel0_row7\" class=\"row_heading level0 row7\" >40+</th>\n",
       "                        <td id=\"T_9e9cad86_3998_11ec_bea7_1c36bb20af6crow7_col0\" class=\"data row7 col0\" >12</td>\n",
       "                        <td id=\"T_9e9cad86_3998_11ec_bea7_1c36bb20af6crow7_col1\" class=\"data row7 col1\" >2.08%</td>\n",
       "            </tr>\n",
       "    </tbody></table>"
      ],
      "text/plain": [
       "<pandas.io.formats.style.Styler at 0x7f9664cee240>"
      ]
     },
     "execution_count": 170,
     "metadata": {},
     "output_type": "execute_result"
    }
   ],
   "source": [
    "# Establish bins and name for each bin\n",
    "bins = [0,9,14,19,24,29,34,39,100]\n",
    "group_names = [\"<10\", \"10-14\", \"15-19\", \"20-24\", \"25-29\", \"30-34\", \"35-39\", \"40+\"]\n",
    "# Categorize players using bins\n",
    "purchase_data[\"Age Group\"] = pd.cut(purchase_data[\"Age\"], bins, labels=group_names)\n",
    "# Group players by age\n",
    "age_groups_df = purchase_data.groupby(\"Age Group\")\n",
    "# Count grouped\n",
    "segmented_count = age_groups_df[\"SN\"].nunique()\n",
    "# Calculate average ofeach group\n",
    "segmented_avg = (segmented_count/total_players) * 100\n",
    "# Create new Data frame\n",
    "age_demographics = pd.DataFrame({\n",
    "                                \"Total Count\": segmented_count,\n",
    "                                \"Percentage of Players\": segmented_avg,})\n",
    "\n",
    "# Format percentage with two decimal places \n",
    "age_demographics.style.format({\"Percentage of Players\":\"{:,.2f}%\",})\n"
   ]
  },
  {
   "cell_type": "markdown",
   "metadata": {},
   "source": [
    "## Purchasing Analysis (Age)"
   ]
  },
  {
   "cell_type": "markdown",
   "metadata": {},
   "source": [
    "* Bin the purchase_data data frame by age\n",
    "\n",
    "\n",
    "* Run basic calculations to obtain purchase count, avg. purchase price, avg. purchase total per person etc. in the table below\n",
    "\n",
    "\n",
    "* Create a summary data frame to hold the results\n",
    "\n",
    "\n",
    "* Optional: give the displayed data cleaner formatting\n",
    "\n",
    "\n",
    "* Display the summary data frame"
   ]
  },
  {
   "cell_type": "code",
   "execution_count": 175,
   "metadata": {},
   "outputs": [
    {
     "data": {
      "text/html": [
       "<style  type=\"text/css\" >\n",
       "</style><table id=\"T_a2489a5a_3999_11ec_8832_1c36bb20af6c\" ><thead>    <tr>        <th class=\"blank level0\" ></th>        <th class=\"col_heading level0 col0\" >Purchase Count</th>        <th class=\"col_heading level0 col1\" >Average Purchase Price</th>        <th class=\"col_heading level0 col2\" >Total Purchase Value</th>        <th class=\"col_heading level0 col3\" >Avg Total Purchase per Person</th>    </tr>    <tr>        <th class=\"index_name level0\" >Age Group</th>        <th class=\"blank\" ></th>        <th class=\"blank\" ></th>        <th class=\"blank\" ></th>        <th class=\"blank\" ></th>    </tr></thead><tbody>\n",
       "                <tr>\n",
       "                        <th id=\"T_a2489a5a_3999_11ec_8832_1c36bb20af6clevel0_row0\" class=\"row_heading level0 row0\" ><10</th>\n",
       "                        <td id=\"T_a2489a5a_3999_11ec_8832_1c36bb20af6crow0_col0\" class=\"data row0 col0\" >23</td>\n",
       "                        <td id=\"T_a2489a5a_3999_11ec_8832_1c36bb20af6crow0_col1\" class=\"data row0 col1\" >$3.35</td>\n",
       "                        <td id=\"T_a2489a5a_3999_11ec_8832_1c36bb20af6crow0_col2\" class=\"data row0 col2\" >$77.13</td>\n",
       "                        <td id=\"T_a2489a5a_3999_11ec_8832_1c36bb20af6crow0_col3\" class=\"data row0 col3\" >$4.54</td>\n",
       "            </tr>\n",
       "            <tr>\n",
       "                        <th id=\"T_a2489a5a_3999_11ec_8832_1c36bb20af6clevel0_row1\" class=\"row_heading level0 row1\" >10-14</th>\n",
       "                        <td id=\"T_a2489a5a_3999_11ec_8832_1c36bb20af6crow1_col0\" class=\"data row1 col0\" >28</td>\n",
       "                        <td id=\"T_a2489a5a_3999_11ec_8832_1c36bb20af6crow1_col1\" class=\"data row1 col1\" >$2.96</td>\n",
       "                        <td id=\"T_a2489a5a_3999_11ec_8832_1c36bb20af6crow1_col2\" class=\"data row1 col2\" >$82.78</td>\n",
       "                        <td id=\"T_a2489a5a_3999_11ec_8832_1c36bb20af6crow1_col3\" class=\"data row1 col3\" >$3.76</td>\n",
       "            </tr>\n",
       "            <tr>\n",
       "                        <th id=\"T_a2489a5a_3999_11ec_8832_1c36bb20af6clevel0_row2\" class=\"row_heading level0 row2\" >15-19</th>\n",
       "                        <td id=\"T_a2489a5a_3999_11ec_8832_1c36bb20af6crow2_col0\" class=\"data row2 col0\" >136</td>\n",
       "                        <td id=\"T_a2489a5a_3999_11ec_8832_1c36bb20af6crow2_col1\" class=\"data row2 col1\" >$3.04</td>\n",
       "                        <td id=\"T_a2489a5a_3999_11ec_8832_1c36bb20af6crow2_col2\" class=\"data row2 col2\" >$412.89</td>\n",
       "                        <td id=\"T_a2489a5a_3999_11ec_8832_1c36bb20af6crow2_col3\" class=\"data row2 col3\" >$3.86</td>\n",
       "            </tr>\n",
       "            <tr>\n",
       "                        <th id=\"T_a2489a5a_3999_11ec_8832_1c36bb20af6clevel0_row3\" class=\"row_heading level0 row3\" >20-24</th>\n",
       "                        <td id=\"T_a2489a5a_3999_11ec_8832_1c36bb20af6crow3_col0\" class=\"data row3 col0\" >365</td>\n",
       "                        <td id=\"T_a2489a5a_3999_11ec_8832_1c36bb20af6crow3_col1\" class=\"data row3 col1\" >$3.05</td>\n",
       "                        <td id=\"T_a2489a5a_3999_11ec_8832_1c36bb20af6crow3_col2\" class=\"data row3 col2\" >$1,114.06</td>\n",
       "                        <td id=\"T_a2489a5a_3999_11ec_8832_1c36bb20af6crow3_col3\" class=\"data row3 col3\" >$4.32</td>\n",
       "            </tr>\n",
       "            <tr>\n",
       "                        <th id=\"T_a2489a5a_3999_11ec_8832_1c36bb20af6clevel0_row4\" class=\"row_heading level0 row4\" >25-29</th>\n",
       "                        <td id=\"T_a2489a5a_3999_11ec_8832_1c36bb20af6crow4_col0\" class=\"data row4 col0\" >101</td>\n",
       "                        <td id=\"T_a2489a5a_3999_11ec_8832_1c36bb20af6crow4_col1\" class=\"data row4 col1\" >$2.90</td>\n",
       "                        <td id=\"T_a2489a5a_3999_11ec_8832_1c36bb20af6crow4_col2\" class=\"data row4 col2\" >$293.00</td>\n",
       "                        <td id=\"T_a2489a5a_3999_11ec_8832_1c36bb20af6crow4_col3\" class=\"data row4 col3\" >$3.81</td>\n",
       "            </tr>\n",
       "            <tr>\n",
       "                        <th id=\"T_a2489a5a_3999_11ec_8832_1c36bb20af6clevel0_row5\" class=\"row_heading level0 row5\" >30-34</th>\n",
       "                        <td id=\"T_a2489a5a_3999_11ec_8832_1c36bb20af6crow5_col0\" class=\"data row5 col0\" >73</td>\n",
       "                        <td id=\"T_a2489a5a_3999_11ec_8832_1c36bb20af6crow5_col1\" class=\"data row5 col1\" >$2.93</td>\n",
       "                        <td id=\"T_a2489a5a_3999_11ec_8832_1c36bb20af6crow5_col2\" class=\"data row5 col2\" >$214.00</td>\n",
       "                        <td id=\"T_a2489a5a_3999_11ec_8832_1c36bb20af6crow5_col3\" class=\"data row5 col3\" >$4.12</td>\n",
       "            </tr>\n",
       "            <tr>\n",
       "                        <th id=\"T_a2489a5a_3999_11ec_8832_1c36bb20af6clevel0_row6\" class=\"row_heading level0 row6\" >35-39</th>\n",
       "                        <td id=\"T_a2489a5a_3999_11ec_8832_1c36bb20af6crow6_col0\" class=\"data row6 col0\" >41</td>\n",
       "                        <td id=\"T_a2489a5a_3999_11ec_8832_1c36bb20af6crow6_col1\" class=\"data row6 col1\" >$3.60</td>\n",
       "                        <td id=\"T_a2489a5a_3999_11ec_8832_1c36bb20af6crow6_col2\" class=\"data row6 col2\" >$147.67</td>\n",
       "                        <td id=\"T_a2489a5a_3999_11ec_8832_1c36bb20af6crow6_col3\" class=\"data row6 col3\" >$4.76</td>\n",
       "            </tr>\n",
       "            <tr>\n",
       "                        <th id=\"T_a2489a5a_3999_11ec_8832_1c36bb20af6clevel0_row7\" class=\"row_heading level0 row7\" >40+</th>\n",
       "                        <td id=\"T_a2489a5a_3999_11ec_8832_1c36bb20af6crow7_col0\" class=\"data row7 col0\" >13</td>\n",
       "                        <td id=\"T_a2489a5a_3999_11ec_8832_1c36bb20af6crow7_col1\" class=\"data row7 col1\" >$2.94</td>\n",
       "                        <td id=\"T_a2489a5a_3999_11ec_8832_1c36bb20af6crow7_col2\" class=\"data row7 col2\" >$38.24</td>\n",
       "                        <td id=\"T_a2489a5a_3999_11ec_8832_1c36bb20af6crow7_col3\" class=\"data row7 col3\" >$3.19</td>\n",
       "            </tr>\n",
       "    </tbody></table>"
      ],
      "text/plain": [
       "<pandas.io.formats.style.Styler at 0x7f9664edfe10>"
      ]
     },
     "execution_count": 175,
     "metadata": {},
     "output_type": "execute_result"
    }
   ],
   "source": [
    "# Using previous already grouped data in bins\n",
    "# Count purchases\n",
    "seg_purchase_count = age_groups_df[\"Purchase ID\"].count()\n",
    "# Find average purchase price\n",
    "seg_avg_purchase_price = age_groups_df[\"Price\"].mean()\n",
    "# Find total for each group\n",
    "seg_total_purchase_value = age_groups_df[\"Price\"].sum()\n",
    "# Find average per person in each group\n",
    "seg_avg_purchase_total_person = seg_total_purchase_value/segmented_count\n",
    "\n",
    "# Create new data frame\n",
    "purchasing_analysis_age = pd.DataFrame({\n",
    "    \"Purchase Count\": seg_purchase_count, \n",
    "    \"Average Purchase Price\": seg_avg_purchase_price,\n",
    "    \"Total Purchase Value\": seg_total_purchase_value, \n",
    "    \"Avg Total Purchase per Person\": seg_avg_purchase_total_person,})\n",
    "\n",
    "# Format data \n",
    "purchasing_analysis_age.style.format({\"Average Purchase Price\":\"${:,.2f}\",\n",
    "                               \"Total Purchase Value\":\"${:,.2f}\",\n",
    "                               \"Avg Total Purchase per Person\":\"${:,.2f}\",})"
   ]
  },
  {
   "cell_type": "markdown",
   "metadata": {},
   "source": [
    "## Top Spenders"
   ]
  },
  {
   "cell_type": "markdown",
   "metadata": {},
   "source": [
    "* Run basic calculations to obtain the results in the table below\n",
    "\n",
    "\n",
    "* Create a summary data frame to hold the results\n",
    "\n",
    "\n",
    "* Sort the total purchase value column in descending order\n",
    "\n",
    "\n",
    "* Optional: give the displayed data cleaner formatting\n",
    "\n",
    "\n",
    "* Display a preview of the summary data frame\n",
    "\n"
   ]
  },
  {
   "cell_type": "code",
   "execution_count": 172,
   "metadata": {},
   "outputs": [
    {
     "data": {
      "text/html": [
       "<div>\n",
       "<style scoped>\n",
       "    .dataframe tbody tr th:only-of-type {\n",
       "        vertical-align: middle;\n",
       "    }\n",
       "\n",
       "    .dataframe tbody tr th {\n",
       "        vertical-align: top;\n",
       "    }\n",
       "\n",
       "    .dataframe thead th {\n",
       "        text-align: right;\n",
       "    }\n",
       "</style>\n",
       "<table border=\"1\" class=\"dataframe\">\n",
       "  <thead>\n",
       "    <tr style=\"text-align: right;\">\n",
       "      <th></th>\n",
       "      <th>Purchase Count</th>\n",
       "      <th>Average Purchase Price</th>\n",
       "      <th>Total Purchase Value</th>\n",
       "    </tr>\n",
       "    <tr>\n",
       "      <th>SN</th>\n",
       "      <th></th>\n",
       "      <th></th>\n",
       "      <th></th>\n",
       "    </tr>\n",
       "  </thead>\n",
       "  <tbody>\n",
       "    <tr>\n",
       "      <th>Lisosia93</th>\n",
       "      <td>5</td>\n",
       "      <td>3.792000</td>\n",
       "      <td>18.96</td>\n",
       "    </tr>\n",
       "    <tr>\n",
       "      <th>Idastidru52</th>\n",
       "      <td>4</td>\n",
       "      <td>3.862500</td>\n",
       "      <td>15.45</td>\n",
       "    </tr>\n",
       "    <tr>\n",
       "      <th>Chamjask73</th>\n",
       "      <td>3</td>\n",
       "      <td>4.610000</td>\n",
       "      <td>13.83</td>\n",
       "    </tr>\n",
       "    <tr>\n",
       "      <th>Iral74</th>\n",
       "      <td>4</td>\n",
       "      <td>3.405000</td>\n",
       "      <td>13.62</td>\n",
       "    </tr>\n",
       "    <tr>\n",
       "      <th>Iskadarya95</th>\n",
       "      <td>3</td>\n",
       "      <td>4.366667</td>\n",
       "      <td>13.10</td>\n",
       "    </tr>\n",
       "  </tbody>\n",
       "</table>\n",
       "</div>"
      ],
      "text/plain": [
       "             Purchase Count  Average Purchase Price  Total Purchase Value\n",
       "SN                                                                       \n",
       "Lisosia93                 5                3.792000                 18.96\n",
       "Idastidru52               4                3.862500                 15.45\n",
       "Chamjask73                3                4.610000                 13.83\n",
       "Iral74                    4                3.405000                 13.62\n",
       "Iskadarya95               3                4.366667                 13.10"
      ]
     },
     "execution_count": 172,
     "metadata": {},
     "output_type": "execute_result"
    }
   ],
   "source": [
    "# Group Individuals so all stats are together\n",
    "ind_spend = purchase_data.groupby(\"SN\")\n",
    "# Count purchases by individual\n",
    "ind_spend_count = ind_spend[\"Purchase ID\"].count()\n",
    "# Calculate average spend.\n",
    "ind_avg_spend = ind_spend[\"Price\"].mean()\n",
    "# Individual Total Spend\n",
    "ind_total_spend = ind_spend[\"Price\"].sum()\n",
    "\n",
    "# Create new Data Frame\n",
    "top_spenders = pd.DataFrame({\n",
    "    \"Purchase Count\": ind_spend_count, \n",
    "    \"Average Purchase Price\": ind_avg_spend,\n",
    "    \"Total Purchase Value\": ind_total_spend,})\n",
    "\n",
    "# Sort descending using the total purchase value column\n",
    "sorted_spenders = top_spenders.sort_values([\"Total Purchase Value\"], ascending=False)\n",
    "\n",
    "# Format Data\n",
    "sorted_spenders.style.format({\"Average Purchase Price\":\"${:,.2f}\",\n",
    "                               \"Total Purchase Value\":\"${:,.2f}\",})\n",
    "# Display a preview\n",
    "sorted_spenders.head()"
   ]
  },
  {
   "cell_type": "markdown",
   "metadata": {},
   "source": [
    "## Most Popular Items"
   ]
  },
  {
   "cell_type": "markdown",
   "metadata": {},
   "source": [
    "* Retrieve the Item ID, Item Name, and Item Price columns\n",
    "\n",
    "\n",
    "* Group by Item ID and Item Name. Perform calculations to obtain purchase count, average item price, and total purchase value\n",
    "\n",
    "\n",
    "* Create a summary data frame to hold the results\n",
    "\n",
    "\n",
    "* Sort the purchase count column in descending order\n",
    "\n",
    "\n",
    "* Optional: give the displayed data cleaner formatting\n",
    "\n",
    "\n",
    "* Display a preview of the summary data frame\n",
    "\n"
   ]
  },
  {
   "cell_type": "code",
   "execution_count": 180,
   "metadata": {},
   "outputs": [
    {
     "data": {
      "text/html": [
       "<div>\n",
       "<style scoped>\n",
       "    .dataframe tbody tr th:only-of-type {\n",
       "        vertical-align: middle;\n",
       "    }\n",
       "\n",
       "    .dataframe tbody tr th {\n",
       "        vertical-align: top;\n",
       "    }\n",
       "\n",
       "    .dataframe thead th {\n",
       "        text-align: right;\n",
       "    }\n",
       "</style>\n",
       "<table border=\"1\" class=\"dataframe\">\n",
       "  <thead>\n",
       "    <tr style=\"text-align: right;\">\n",
       "      <th></th>\n",
       "      <th></th>\n",
       "      <th>Purchase Count</th>\n",
       "      <th>Item Price</th>\n",
       "      <th>Total Purchase Value</th>\n",
       "    </tr>\n",
       "    <tr>\n",
       "      <th>Item ID</th>\n",
       "      <th>Item Name</th>\n",
       "      <th></th>\n",
       "      <th></th>\n",
       "      <th></th>\n",
       "    </tr>\n",
       "  </thead>\n",
       "  <tbody>\n",
       "    <tr>\n",
       "      <th>92</th>\n",
       "      <th>Final Critic</th>\n",
       "      <td>13</td>\n",
       "      <td>4.614615</td>\n",
       "      <td>59.99</td>\n",
       "    </tr>\n",
       "    <tr>\n",
       "      <th>178</th>\n",
       "      <th>Oathbreaker, Last Hope of the Breaking Storm</th>\n",
       "      <td>12</td>\n",
       "      <td>4.230000</td>\n",
       "      <td>50.76</td>\n",
       "    </tr>\n",
       "    <tr>\n",
       "      <th>145</th>\n",
       "      <th>Fiery Glass Crusader</th>\n",
       "      <td>9</td>\n",
       "      <td>4.580000</td>\n",
       "      <td>41.22</td>\n",
       "    </tr>\n",
       "    <tr>\n",
       "      <th>132</th>\n",
       "      <th>Persuasion</th>\n",
       "      <td>9</td>\n",
       "      <td>3.221111</td>\n",
       "      <td>28.99</td>\n",
       "    </tr>\n",
       "    <tr>\n",
       "      <th>108</th>\n",
       "      <th>Extraction, Quickblade Of Trembling Hands</th>\n",
       "      <td>9</td>\n",
       "      <td>3.530000</td>\n",
       "      <td>31.77</td>\n",
       "    </tr>\n",
       "  </tbody>\n",
       "</table>\n",
       "</div>"
      ],
      "text/plain": [
       "                                                      Purchase Count  \\\n",
       "Item ID Item Name                                                      \n",
       "92      Final Critic                                              13   \n",
       "178     Oathbreaker, Last Hope of the Breaking Storm              12   \n",
       "145     Fiery Glass Crusader                                       9   \n",
       "132     Persuasion                                                 9   \n",
       "108     Extraction, Quickblade Of Trembling Hands                  9   \n",
       "\n",
       "                                                      Item Price  \\\n",
       "Item ID Item Name                                                  \n",
       "92      Final Critic                                    4.614615   \n",
       "178     Oathbreaker, Last Hope of the Breaking Storm    4.230000   \n",
       "145     Fiery Glass Crusader                            4.580000   \n",
       "132     Persuasion                                      3.221111   \n",
       "108     Extraction, Quickblade Of Trembling Hands       3.530000   \n",
       "\n",
       "                                                      Total Purchase Value  \n",
       "Item ID Item Name                                                           \n",
       "92      Final Critic                                                 59.99  \n",
       "178     Oathbreaker, Last Hope of the Breaking Storm                 50.76  \n",
       "145     Fiery Glass Crusader                                         41.22  \n",
       "132     Persuasion                                                   28.99  \n",
       "108     Extraction, Quickblade Of Trembling Hands                    31.77  "
      ]
     },
     "execution_count": 180,
     "metadata": {},
     "output_type": "execute_result"
    }
   ],
   "source": [
    "# Perform calculations\n",
    "items_df = purchase_data[[\"Item ID\", \"Item Name\", \"Price\"]]\n",
    "items_grpd = items_df.groupby([\"Item ID\", \"Item Name\"])\n",
    "item_count = items_grpd[\"Item ID\"].count()\n",
    "item_total = items_grpd[\"Price\"].sum()\n",
    "item_avg =  item_total/item_count\n",
    "\n",
    "# Create new Data frame\n",
    "popular_items = pd.DataFrame({\n",
    "    \"Purchase Count\": item_count,\n",
    "    \"Item Price\": item_avg,\n",
    "    \"Total Purchase Value\": item_total,})\n",
    "\n",
    "# Format the data (Even though it's not working!)\n",
    "popular_items.style.format({\"Item Price\":\"${:,.2f}\",\n",
    "                          \"Total Purchase Value\":\"${:,.2f}\"})\n",
    "\n",
    "# Sort info by purchase count column\n",
    "sorted_items = popular_items.sort_values([\"Purchase Count\"], ascending=False)\n",
    "\n",
    "# Display a preview\n",
    "sorted_items.head()"
   ]
  },
  {
   "cell_type": "markdown",
   "metadata": {},
   "source": [
    "## Most Profitable Items"
   ]
  },
  {
   "cell_type": "markdown",
   "metadata": {},
   "source": [
    "* Sort the above table by total purchase value in descending order\n",
    "\n",
    "\n",
    "* Optional: give the displayed data cleaner formatting\n",
    "\n",
    "\n",
    "* Display a preview of the data frame\n",
    "\n"
   ]
  },
  {
   "cell_type": "code",
   "execution_count": 181,
   "metadata": {
    "scrolled": true
   },
   "outputs": [
    {
     "data": {
      "text/html": [
       "<div>\n",
       "<style scoped>\n",
       "    .dataframe tbody tr th:only-of-type {\n",
       "        vertical-align: middle;\n",
       "    }\n",
       "\n",
       "    .dataframe tbody tr th {\n",
       "        vertical-align: top;\n",
       "    }\n",
       "\n",
       "    .dataframe thead th {\n",
       "        text-align: right;\n",
       "    }\n",
       "</style>\n",
       "<table border=\"1\" class=\"dataframe\">\n",
       "  <thead>\n",
       "    <tr style=\"text-align: right;\">\n",
       "      <th></th>\n",
       "      <th></th>\n",
       "      <th>Purchase Count</th>\n",
       "      <th>Item Price</th>\n",
       "      <th>Total Purchase Value</th>\n",
       "    </tr>\n",
       "    <tr>\n",
       "      <th>Item ID</th>\n",
       "      <th>Item Name</th>\n",
       "      <th></th>\n",
       "      <th></th>\n",
       "      <th></th>\n",
       "    </tr>\n",
       "  </thead>\n",
       "  <tbody>\n",
       "    <tr>\n",
       "      <th>92</th>\n",
       "      <th>Final Critic</th>\n",
       "      <td>13</td>\n",
       "      <td>4.614615</td>\n",
       "      <td>59.99</td>\n",
       "    </tr>\n",
       "    <tr>\n",
       "      <th>178</th>\n",
       "      <th>Oathbreaker, Last Hope of the Breaking Storm</th>\n",
       "      <td>12</td>\n",
       "      <td>4.230000</td>\n",
       "      <td>50.76</td>\n",
       "    </tr>\n",
       "    <tr>\n",
       "      <th>82</th>\n",
       "      <th>Nirvana</th>\n",
       "      <td>9</td>\n",
       "      <td>4.900000</td>\n",
       "      <td>44.10</td>\n",
       "    </tr>\n",
       "    <tr>\n",
       "      <th>145</th>\n",
       "      <th>Fiery Glass Crusader</th>\n",
       "      <td>9</td>\n",
       "      <td>4.580000</td>\n",
       "      <td>41.22</td>\n",
       "    </tr>\n",
       "    <tr>\n",
       "      <th>103</th>\n",
       "      <th>Singed Scalpel</th>\n",
       "      <td>8</td>\n",
       "      <td>4.350000</td>\n",
       "      <td>34.80</td>\n",
       "    </tr>\n",
       "  </tbody>\n",
       "</table>\n",
       "</div>"
      ],
      "text/plain": [
       "                                                      Purchase Count  \\\n",
       "Item ID Item Name                                                      \n",
       "92      Final Critic                                              13   \n",
       "178     Oathbreaker, Last Hope of the Breaking Storm              12   \n",
       "82      Nirvana                                                    9   \n",
       "145     Fiery Glass Crusader                                       9   \n",
       "103     Singed Scalpel                                             8   \n",
       "\n",
       "                                                      Item Price  \\\n",
       "Item ID Item Name                                                  \n",
       "92      Final Critic                                    4.614615   \n",
       "178     Oathbreaker, Last Hope of the Breaking Storm    4.230000   \n",
       "82      Nirvana                                         4.900000   \n",
       "145     Fiery Glass Crusader                            4.580000   \n",
       "103     Singed Scalpel                                  4.350000   \n",
       "\n",
       "                                                      Total Purchase Value  \n",
       "Item ID Item Name                                                           \n",
       "92      Final Critic                                                 59.99  \n",
       "178     Oathbreaker, Last Hope of the Breaking Storm                 50.76  \n",
       "82      Nirvana                                                      44.10  \n",
       "145     Fiery Glass Crusader                                         41.22  \n",
       "103     Singed Scalpel                                               34.80  "
      ]
     },
     "execution_count": 181,
     "metadata": {},
     "output_type": "execute_result"
    }
   ],
   "source": [
    "# Re sort previous data frame\n",
    "re_sorted_items = popular_items.sort_values([\"Total Purchase Value\"], ascending=False)\n",
    "# Format data frame (Also not working here!!!!!)\n",
    "re_sorted_items.style.format({\"Item Price\":\"${:,.2f}\",\"Total Purchase Value\":\"${:,.2f}\"})\n",
    "# Display preview\n",
    "re_sorted_items.head()"
   ]
  },
  {
   "cell_type": "code",
   "execution_count": null,
   "metadata": {},
   "outputs": [],
   "source": []
  }
 ],
 "metadata": {
  "anaconda-cloud": {},
  "kernel_info": {
   "name": "python3"
  },
  "kernelspec": {
   "display_name": "Python [conda env:pythonData] *",
   "language": "python",
   "name": "conda-env-pythonData-py"
  },
  "language_info": {
   "codemirror_mode": {
    "name": "ipython",
    "version": 3
   },
   "file_extension": ".py",
   "mimetype": "text/x-python",
   "name": "python",
   "nbconvert_exporter": "python",
   "pygments_lexer": "ipython3",
   "version": "3.6.10"
  },
  "latex_envs": {
   "LaTeX_envs_menu_present": true,
   "autoclose": false,
   "autocomplete": true,
   "bibliofile": "biblio.bib",
   "cite_by": "apalike",
   "current_citInitial": 1,
   "eqLabelWithNumbers": true,
   "eqNumInitial": 1,
   "hotkeys": {
    "equation": "Ctrl-E",
    "itemize": "Ctrl-I"
   },
   "labels_anchors": false,
   "latex_user_defs": false,
   "report_style_numbering": false,
   "user_envs_cfg": false
  },
  "nteract": {
   "version": "0.2.0"
  }
 },
 "nbformat": 4,
 "nbformat_minor": 2
}
